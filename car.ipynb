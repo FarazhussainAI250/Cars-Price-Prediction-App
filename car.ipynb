{
 "cells": [
  {
   "cell_type": "code",
   "execution_count": 2,
   "id": "ba12e263",
   "metadata": {},
   "outputs": [
    {
     "name": "stdout",
     "output_type": "stream",
     "text": [
      "✅ Model training completed & files saved!\n"
     ]
    }
   ],
   "source": [
    "# backend_price_estimator.py\n",
    "\n",
    "import pandas as pd\n",
    "import numpy as np\n",
    "import re\n",
    "from sklearn.model_selection import train_test_split\n",
    "from sklearn.ensemble import RandomForestRegressor\n",
    "from sklearn.preprocessing import LabelEncoder\n",
    "import joblib\n",
    "\n",
    "# ---------------- Step 1: Load Data ----------------\n",
    "df = pd.read_csv(\"car_data.csv\", encoding=\"latin1\")\n",
    "\n",
    "# ---------------- Step 2: Clean Price Column ----------------\n",
    "def clean_price(price):\n",
    "    if pd.isnull(price):\n",
    "        return np.nan\n",
    "    price = str(price).replace(\"$\", \"\").replace(\",\", \"\").strip()\n",
    "    if \"-\" in price:  # Handle range e.g. 12000-15000\n",
    "        parts = price.split(\"-\")\n",
    "        try:\n",
    "            return (float(parts[0]) + float(parts[1])) / 2\n",
    "        except:\n",
    "            return np.nan\n",
    "    try:\n",
    "        return float(price)\n",
    "    except:\n",
    "        return np.nan\n",
    "\n",
    "df[\"Cars Prices\"] = df[\"Cars Prices\"].apply(clean_price)\n",
    "\n",
    "# ---------------- Step 3: Clean Numeric Features ----------------\n",
    "def extract_number(value):\n",
    "    if pd.isnull(value):\n",
    "        return np.nan\n",
    "    num = re.findall(r\"[\\d.]+\", str(value))\n",
    "    if num:\n",
    "        return float(num[0])\n",
    "    return np.nan\n",
    "\n",
    "df[\"CC/Battery Capacity\"] = df[\"CC/Battery Capacity\"].apply(extract_number)\n",
    "df[\"HorsePower\"] = df[\"HorsePower\"].apply(extract_number)\n",
    "df[\"Total Speed\"] = df[\"Total Speed\"].apply(extract_number)\n",
    "df[\"Performance(0 - 100 )KM/H\"] = df[\"Performance(0 - 100 )KM/H\"].apply(extract_number)\n",
    "df[\"Torque\"] = df[\"Torque\"].apply(extract_number)\n",
    "df[\"Seats\"] = pd.to_numeric(df[\"Seats\"], errors='coerce')\n",
    "\n",
    "# ---------------- Step 4: Drop NaNs ----------------\n",
    "df.dropna(inplace=True)\n",
    "\n",
    "# ---------------- Step 5: Encode Categorical Columns ----------------\n",
    "label_encoders = {}\n",
    "for col in [\"Company Names\", \"Cars Names\", \"Engines\", \"Fuel Types\"]:\n",
    "    le = LabelEncoder()\n",
    "    df[col] = le.fit_transform(df[col])\n",
    "    label_encoders[col] = le\n",
    "\n",
    "# ---------------- Step 6: Define Features & Target ----------------\n",
    "X = df.drop(columns=[\"Cars Prices\"])\n",
    "y = df[\"Cars Prices\"]\n",
    "\n",
    "# ---------------- Step 7: Train-Test Split ----------------\n",
    "X_train, X_test, y_train, y_test = train_test_split(X, y, test_size=0.2, random_state=42)\n",
    "\n",
    "# ---------------- Step 8: Train Model ----------------\n",
    "model = RandomForestRegressor(n_estimators=200, random_state=42)\n",
    "model.fit(X_train, y_train)\n",
    "\n",
    "# ---------------- Step 9: Save Model & Encoders ----------------\n",
    "joblib.dump(model, \"car_price_model.pkl\")\n",
    "joblib.dump(label_encoders, \"car_price_encoders.pkl\")\n",
    "joblib.dump(list(X.columns), \"car_price_features.pkl\")\n",
    "\n",
    "print(\"✅ Model training completed & files saved!\")\n"
   ]
  }
 ],
 "metadata": {
  "kernelspec": {
   "display_name": "car",
   "language": "python",
   "name": "python3"
  },
  "language_info": {
   "codemirror_mode": {
    "name": "ipython",
    "version": 3
   },
   "file_extension": ".py",
   "mimetype": "text/x-python",
   "name": "python",
   "nbconvert_exporter": "python",
   "pygments_lexer": "ipython3",
   "version": "3.10.0"
  }
 },
 "nbformat": 4,
 "nbformat_minor": 5
}
